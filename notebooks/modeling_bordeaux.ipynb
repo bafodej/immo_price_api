{
 "cells": [
  {
   "cell_type": "markdown",
   "id": "39cb26ca",
   "metadata": {},
   "source": [
    "## Modélisation du prix du m² à bordaux (année2022) pour les logements de 4 pièces, Séparation appartements vs maisons"
   ]
  },
  {
   "cell_type": "code",
   "execution_count": null,
   "id": "a19d5667",
   "metadata": {},
   "outputs": [],
   "source": [
    "import pandas as pd\n",
    "import numpy as np\n",
    "from sklearn.model_selection import train_test_split, GridSearchCV\n",
    "from sklearn.linear_model import LinearRegression\n",
    "from sklearn.tree import DecisionTreeRegressor\n",
    "from sklearn.ensemble import RandomForestRegressor\n",
    "from sklearn.metrics import mean_squared_error,r2_score\n",
    "from xgboost import XGBRegressor\n",
    "import matplotlib.pyplot as plt\n",
    "import seaborn as sns"
   ]
  },
  {
   "cell_type": "markdown",
   "id": "ff7bd2ef",
   "metadata": {},
   "source": [
    "## Chargement des données "
   ]
  },
  {
   "cell_type": "code",
   "execution_count": null,
   "id": "0e1fc40f",
   "metadata": {},
   "outputs": [],
   "source": [
    "# Configuration des graphiques\n",
    "plt.style.use('default')\n",
    "sns.set_palette('husl')\n",
    "\n",
    "def load_and_explore_data():\n",
    "    \"\"\" Charger les données de Bordeaux\"\"\"\n",
    "    print(\" Chargement des données de Bordeaux...\")\n",
    "    \n",
    "    df = pd.read_csv(\"../data/bordeaux_2022.csv\")\n",
    "    print(f\" Données chargées : {len(df)} transactions\")\n",
    "    \n",
    "    # Explorer les colonnes disponibles\n",
    "    print(\" Colonnes disponibles :\")\n",
    "    for i, col in enumerate(df.columns, 1):\n",
    "        print(f\"  {i:2d}. {col}\")\n",
    "    \n",
    "    # Vérifier les types de logements\n",
    "    if 'Type local' in df.columns:\n",
    "        print(f\" Types de logements :\")\n",
    "        print(df['Type local'].value_counts())\n",
    "    \n",
    "    # Vérifier les nombres de pièces\n",
    "    if 'Nombre pieces principales' in df.columns:\n",
    "        print(f\" Répartition nombre de pièces :\")\n",
    "        print(df['Nombre pieces principales'].value_counts().sort_index())\n",
    "    \n",
    "    return df\n",
    "\n",
    "# Appel de  la fonction pour charger et explorer les données\n",
    "df_bdx = load_and_explore_data()"
   ]
  },
  {
   "cell_type": "markdown",
   "id": "b415bad3",
   "metadata": {},
   "source": [
    "## Filtrage"
   ]
  },
  {
   "cell_type": "code",
   "execution_count": null,
   "id": "8abbade0",
   "metadata": {},
   "outputs": [],
   "source": [
    "# Appel de  la fonction pour charger et explorer les données\n",
    "df_bdx = load_and_explore_data()\n",
    "\n",
    "# Puis filtrer sur 4 pièces\n",
    "df_bdx_4p = df_bdx[df_bdx['Nombre pieces principales'] == 4].copy()\n",
    "\n",
    "# PUIS créer les variables appartements/maisons\n",
    "appartements = df_bdx_4p[df_bdx_4p['Type local'] == 'Appartement'].copy()\n",
    "maisons = df_bdx_4p[df_bdx_4p['Type local'] == 'Maison'].copy()\n",
    "\n",
    "\n",
    "\n",
    "print(f\" Appartements 4 pièces : {len(appartements)}\")\n",
    "print(f\" Maisons 4 pièces : {len(maisons)}\")\n"
   ]
  },
  {
   "cell_type": "code",
   "execution_count": 44,
   "id": "8c36d8f4",
   "metadata": {},
   "outputs": [
    {
     "name": "stdout",
     "output_type": "stream",
     "text": [
      "\n",
      "=== NETTOYAGE APPARTEMENTS ===\n",
      " Nettoyage données APPARTEMENTS...\n",
      " Colonnes disponibles : ['Surface reelle bati', 'Nombre pieces principales', 'Type local', 'Valeur fonciere', 'Surface terrain', 'Nombre de lots']\n",
      " Variable prix_m2 créée\n",
      " Avant nettoyage : 663 lignes\n",
      " Après nettoyage valeurs manquantes : 663 lignes\n",
      " Détection outliers prix_m2 :\n",
      " Q1: 3344.83, Q3: 5279.63\n",
      " Limites: [442.64, 8181.82]\n",
      " Après suppression outliers : 606 lignes\n",
      "-Statistiques APPARTEMENTS :\n",
      "-Prix m² min: 876.74 €\n",
      "-Prix m² max: 8174.07 €\n",
      "-Prix m² moyen: 4177.57 €\n",
      "-Variables : ['Surface reelle bati', 'Nombre pieces principales', 'Surface terrain', 'Nombre de lots']\n",
      "\n",
      "=== NETTOYAGE MAISONS ===\n",
      " Nettoyage données MAISONS...\n",
      " Colonnes disponibles : ['Surface reelle bati', 'Nombre pieces principales', 'Type local', 'Valeur fonciere', 'Surface terrain', 'Nombre de lots']\n",
      " Variable prix_m2 créée\n",
      " Avant nettoyage : 408 lignes\n",
      " Après nettoyage valeurs manquantes : 408 lignes\n",
      " Détection outliers prix_m2 :\n",
      " Q1: 4470.62, Q3: 6205.83\n",
      " Limites: [1867.79, 8808.66]\n",
      " Après suppression outliers : 386 lignes\n",
      "-Statistiques MAISONS :\n",
      "-Prix m² min: 1875.00 €\n",
      "-Prix m² max: 8785.71 €\n",
      "-Prix m² moyen: 5297.61 €\n",
      "-Variables : ['Surface reelle bati', 'Nombre pieces principales', 'Surface terrain', 'Nombre de lots']\n"
     ]
    }
   ],
   "source": [
    "from sklearn.model_selection import train_test_split  \n",
    "\n",
    "#   Définir la fonction de nettoyage\n",
    "def select_features_and_clean(df, dataset_name):\n",
    "    \"\"\"Sélectionner les colonnes et nettoyer\"\"\"\n",
    "    print(f\" Nettoyage données {dataset_name}...\")\n",
    "    \n",
    "    if len(df) == 0:\n",
    "        print(f\" Aucune donnée pour {dataset_name}\")\n",
    "        return None, None, None\n",
    "    \n",
    "    # Colonnes à conserver\n",
    "    required_cols = ['Surface reelle bati', 'Nombre pieces principales', 'Type local', 'Valeur fonciere']\n",
    "    optional_cols = ['Surface terrain', 'Nombre de lots']\n",
    "    \n",
    "    # Vérifier colonnes disponibles\n",
    "    available_cols = [col for col in required_cols if col in df.columns]\n",
    "    available_optional = [col for col in optional_cols if col in df.columns]\n",
    "    \n",
    "    print(f\" Colonnes disponibles : {available_cols + available_optional}\")\n",
    "    \n",
    "    # Sélectionner et nettoyer\n",
    "    selected_cols = available_cols + available_optional\n",
    "    df_clean = df[selected_cols].copy()\n",
    "    \n",
    "    # Créer prix_m2 (Variable cible)\n",
    "    df_clean['prix_m2'] = df_clean['Valeur fonciere'] / df_clean['Surface reelle bati']\n",
    "    print(f\" Variable prix_m2 créée\")\n",
    "    \n",
    "    # Nettoyage\n",
    "    print(f\" Avant nettoyage : {len(df_clean)} lignes\")\n",
    "    \n",
    "    # Remplacer valeurs manquantes \n",
    "    if 'Surface terrain' in df_clean.columns:\n",
    "        df_clean['Surface terrain'] = df_clean['Surface terrain'].fillna(0)\n",
    "    if 'Nombre de lots' in df_clean.columns:\n",
    "        df_clean['Nombre de lots'] = df_clean['Nombre de lots'].fillna(1)\n",
    "    \n",
    "    # Supprimer lignes avec données essentielles manquantes\n",
    "    df_clean = df_clean.dropna(subset=['Surface reelle bati', 'Valeur fonciere'])\n",
    "    print(f\" Après nettoyage valeurs manquantes : {len(df_clean)} lignes\")\n",
    "    \n",
    "    # Identifier et retirer les valeurs aberrantes (prix au m²)\n",
    "    if len(df_clean) > 0:\n",
    "        Q1 = df_clean['prix_m2'].quantile(0.25)\n",
    "        Q3 = df_clean['prix_m2'].quantile(0.75)\n",
    "        IQR = Q3 - Q1\n",
    "        \n",
    "        # Limites pour les outliers\n",
    "        lower_bound = Q1 - 1.5 * IQR\n",
    "        upper_bound = Q3 + 1.5 * IQR\n",
    "        \n",
    "        print(f\" Détection outliers prix_m2 :\")\n",
    "        print(f\" Q1: {Q1:.2f}, Q3: {Q3:.2f}\")\n",
    "        print(f\" Limites: [{lower_bound:.2f}, {upper_bound:.2f}]\")\n",
    "        \n",
    "        # Filtrer les outliers\n",
    "        mask = (df_clean['prix_m2'] >= lower_bound) & (df_clean['prix_m2'] <= upper_bound)\n",
    "        df_clean = df_clean[mask]\n",
    "        \n",
    "        print(f\" Après suppression outliers : {len(df_clean)} lignes\")\n",
    "    \n",
    "    if len(df_clean) == 0:\n",
    "        print(f\" Plus de données après nettoyage pour {dataset_name}\")\n",
    "        return None, None, None\n",
    "    \n",
    "    # Préparer X et y\n",
    "    feature_cols = [col for col in df_clean.columns if col not in ['Valeur fonciere', 'prix_m2', 'Type local']]\n",
    "    X = df_clean[feature_cols]\n",
    "    y = df_clean['prix_m2']\n",
    "        \n",
    "    # Afficher quelques statistiques\n",
    "    print(f\"-Statistiques {dataset_name} :\")\n",
    "    print(f\"-Prix m² min: {df_clean['prix_m2'].min():.2f} €\")\n",
    "    print(f\"-Prix m² max: {df_clean['prix_m2'].max():.2f} €\")\n",
    "    print(f\"-Prix m² moyen: {df_clean['prix_m2'].mean():.2f} €\")\n",
    "    print(f\"-Variables : {list(X.columns)}\")\n",
    "    \n",
    "    return X, y, df_clean\n",
    "\n",
    "# Appeler la fonction\n",
    "print(\"\\n=== NETTOYAGE APPARTEMENTS ===\")\n",
    "x_bdx_apt, y_bdx_apt, df_apt_clean = select_features_and_clean(appartements, \"APPARTEMENTS\")\n",
    "\n",
    "print(\"\\n=== NETTOYAGE MAISONS ===\")\n",
    "x_bdx_maisons, y_bdx_maisons, df_maisons_clean = select_features_and_clean(maisons, \"MAISONS\")\n",
    "\n",
    "\n",
    "\n"
   ]
  },
  {
   "cell_type": "markdown",
   "id": "1c9c918f",
   "metadata": {},
   "source": [
    "## Préparation de données bordeaux "
   ]
  },
  {
   "cell_type": "code",
   "execution_count": null,
   "id": "df991073",
   "metadata": {},
   "outputs": [],
   "source": [
    "print(\"\\n\" + \"=\" * 60)\n",
    "print(\" PRÉPARATION DES DONNÉES BORDEAUX\")\n",
    "print(\"=\" * 60)\n",
    "\n",
    "# Préparer les données pour chaque type\n",
    "x_bdx_apt, y_bdx_apt, df_apt_clean = select_features_and_clean(appartements, \"APPARTEMENTS\")\n",
    "x_bdx_maisons, y_bdx_maisons, df_bdx_maisons_clean = select_features_and_clean(maisons, \"MAISONS\")\n",
    "\n",
    "print(\"\\n Données Bordeaux préparées !\")\n",
    "print(f\" Appartements Bordeaux : {len(x_bdx_apt) if x_bdx_apt is not None else 0} échantillons\")\n",
    "print(f\" Maisons Bordeaux : {len(x_bdx_maisons) if x_bdx_maisons is not None else 0} échantillons\")\n",
    "\n"
   ]
  },
  {
   "cell_type": "markdown",
   "id": "87bd8087",
   "metadata": {},
   "source": [
    "## Visualisation de la distribution de prix"
   ]
  },
  {
   "cell_type": "code",
   "execution_count": 43,
   "id": "41bc4677",
   "metadata": {},
   "outputs": [
    {
     "data": {
      "image/png": "[encoded data removed]",
      "text/plain": [
       "<Figure size 1200x500 with 2 Axes>"
      ]
     },
     "metadata": {},
     "output_type": "display_data"
    }
   ],
   "source": [
    "# Comparer les distributions de prix\n",
    "if df_apt_clean is not None and df_maisons_clean is not None:\n",
    "    plt.figure(figsize=(12, 5))\n",
    "    \n",
    "    plt.subplot(1, 2, 1)\n",
    "    plt.hist(df_apt_clean['prix_m2'], bins=30, alpha=0.7, label='Appartements')\n",
    "    plt.hist(df_maisons_clean['prix_m2'], bins=30, alpha=0.7, label='Maisons')\n",
    "    plt.xlabel('Prix au m² (€)')\n",
    "    plt.ylabel('Fréquence')\n",
    "    plt.title('Distribution des prix au m²')\n",
    "    plt.legend()\n",
    "    \n",
    "    plt.subplot(1, 2, 2)\n",
    "    plt.boxplot([df_apt_clean['prix_m2'], df_maisons_clean['prix_m2']], \n",
    "                label=['Appartements', 'Maisons'])\n",
    "    plt.ylabel('Prix au m² (€)')\n",
    "    plt.title('Comparaison des prix par type')\n",
    "    plt.tight_layout()\n",
    "    plt.show()"
   ]
  },
  {
   "cell_type": "markdown",
   "id": "b8e7df3b",
   "metadata": {},
   "source": [
    "## Import des modèle entrainé  pour lille "
   ]
  },
  {
   "cell_type": "code",
   "execution_count": null,
   "id": "bb8c788a",
   "metadata": {},
   "outputs": [],
   "source": [
    "import joblib\n",
    "\n",
    "# Chargement des modèles\n",
    "lr_apt = joblib.load('../models/lille_appartements.pkl')\n",
    "lr_maisons = joblib.load('../models/lille_maisons.pkl')\n",
    "scaler_apt = joblib.load('../models/scaler_lille_apt.pkl')\n",
    "scaler_maisons = joblib.load('../models/scaler_lille_maisons.pkl')\n",
    "\n",
    "print(\" Modèles chargés\")"
   ]
  },
  {
   "cell_type": "markdown",
   "id": "24634e50",
   "metadata": {},
   "source": [
    "## "
   ]
  },
  {
   "cell_type": "code",
   "execution_count": 41,
   "id": "4f6e2522",
   "metadata": {},
   "outputs": [
    {
     "name": "stdout",
     "output_type": "stream",
     "text": [
      " Standardisation Bordeaux avec scaler Lille...\n",
      " Test modèle Lille → Bordeaux Appartements (STANDARDISÉ)\n",
      "   MSE Bordeaux:  2,127,422.62\n",
      "   RMSE Bordeaux:     1,458.57 €/m²\n",
      "   R² Bordeaux:         -0.327\n",
      "\n",
      " Comparaison :\n",
      "   MSE SANS standardisation: 1,336,055,724\n",
      "   MSE AVEC standardisation: 2,127,422.62\n",
      "\n",
      "Résultats collectés: {'LinearRegression_Standardisé': 2127422.619700383}\n"
     ]
    }
   ],
   "source": [
    "#  Test avec standardisation\n",
    "if x_bdx_apt is not None and y_bdx_apt is not None:\n",
    "    print(\" Standardisation Bordeaux avec scaler Lille...\")\n",
    "    \n",
    "    # Standardisation de  Bordeaux avec le scaler de Lille\n",
    "    x_bdx_apt_scaled = scaler_apt.transform(x_bdx_apt)\n",
    "    \n",
    "    # Prédiction avec données standardisées\n",
    "    print(\" Test modèle Lille → Bordeaux Appartements (STANDARDISÉ)\")\n",
    "    y_pred_bdx_scaled = lr_apt.predict(x_bdx_apt_scaled)\n",
    "    \n",
    "    # Métriques\n",
    "    mse_bordeaux_scaled = mean_squared_error(y_bdx_apt, y_pred_bdx_scaled)\n",
    "    rmse_bordeaux_scaled = np.sqrt(mse_bordeaux_scaled)\n",
    "    r2_bordeaux_scaled = r2_score(y_bdx_apt, y_pred_bdx_scaled)\n",
    "    \n",
    "    print(f\"MSE Bordeaux:  {mse_bordeaux_scaled:>12,.2f}\")\n",
    "    print(f\"RMSE Bordeaux: {rmse_bordeaux_scaled:>12,.2f} €/m²\")\n",
    "    print(f\"R² Bordeaux: {r2_bordeaux_scaled:>12.3f}\")\n",
    "    \n",
    "    # Comparaison\n",
    "    print(f\"\\n Comparaison :\")\n",
    "    print(f\" MSE SANS standardisation: 1,336,055,724\")\n",
    "    print(f\" MSE AVEC standardisation: {mse_bordeaux_scaled:,.2f}\")\n",
    "    \n",
    "else:\n",
    "    print(\"Pas de données Bordeaux\")\n",
    "\n",
    "\n",
    "appartements_results = {}\n",
    "maisons_results = {}\n",
    "\n",
    "# Stocke le résultat\n",
    "if 'mse_bordeaux_scaled' in locals():\n",
    "    appartements_results['LinearRegression_Standardisé'] = mse_bordeaux_scaled\n",
    "\n",
    "print(f\"\\nRésultats collectés: {appartements_results}\")"
   ]
  },
  {
   "cell_type": "code",
   "execution_count": 42,
   "id": "f31c1462",
   "metadata": {},
   "outputs": [
    {
     "name": "stdout",
     "output_type": "stream",
     "text": [
      "\n",
      "============================================================\n",
      " TABLEAU COMPARATIF DES PERFORMANCES (MSE)\n",
      "============================================================\n",
      "                      Modèle Appartements (MSE) Maisons (MSE)\n",
      "LinearRegression_Standardisé         2127422.62           N/A\n",
      "\n",
      " Meilleur modèle APPARTEMENTS : LinearRegression_Standardisé (MSE: 2127422.62)\n"
     ]
    }
   ],
   "source": [
    "def display_results_comparison(appartements_results, maisons_results):\n",
    "    \"\"\" Affichage du  tableau comparatif\"\"\"\n",
    "    print(\"\\n\" + \"=\"*60)\n",
    "    print(\" TABLEAU COMPARATIF DES PERFORMANCES (MSE)\")\n",
    "    print(\"=\"*60)\n",
    "    \n",
    "    # Créer un DataFrame pour l'affichage\n",
    "    models = set(appartements_results.keys()) | set(maisons_results.keys())\n",
    "    \n",
    "    comparison_data = []\n",
    "    for model in models:\n",
    "        apt_mse = appartements_results.get(model, 'N/A')\n",
    "        maison_mse = maisons_results.get(model, 'N/A')\n",
    "        \n",
    "        comparison_data.append({\n",
    "            'Modèle': model,\n",
    "            'Appartements (MSE)': f\"{apt_mse:.2f}\" if apt_mse != 'N/A' else 'N/A',\n",
    "            'Maisons (MSE)': f\"{maison_mse:.2f}\" if maison_mse != 'N/A' else 'N/A'\n",
    "        })\n",
    "    \n",
    "    df_comparison = pd.DataFrame(comparison_data)\n",
    "    print(df_comparison.to_string(index=False))\n",
    "    \n",
    "    # Identifiecation  des meilleurs modèles\n",
    "    if appartements_results:\n",
    "        best_apt_model = min(appartements_results, key=appartements_results.get)\n",
    "        print(f\"\\n Meilleur modèle APPARTEMENTS : {best_apt_model} (MSE: {appartements_results[best_apt_model]:.2f})\")\n",
    "    \n",
    "    if maisons_results:\n",
    "        best_maison_model = min(maisons_results, key=maisons_results.get)\n",
    "        print(f\" Meilleur modèle MAISONS : {best_maison_model} (MSE: {maisons_results[best_maison_model]:.2f})\")\n",
    "\n",
    "display_results_comparison(appartements_results, maisons_results)\n",
    "\n"
   ]
  }
 ],
 "metadata": {
  "kernelspec": {
   "display_name": "immo_env",
   "language": "python",
   "name": "python3"
  },
  "language_info": {
   "codemirror_mode": {
    "name": "ipython",
    "version": 3
   },
   "file_extension": ".py",
   "mimetype": "text/x-python",
   "name": "python",
   "nbconvert_exporter": "python",
   "pygments_lexer": "ipython3",
   "version": "3.13.3"
  }
 },
 "nbformat": 4,
 "nbformat_minor": 5
}
