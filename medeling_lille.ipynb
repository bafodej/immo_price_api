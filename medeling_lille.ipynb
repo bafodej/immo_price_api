{
 "cells": [
  {
   "cell_type": "markdown",
   "id": "694aaf40",
   "metadata": {},
   "source": [
    "# Modélisation du prix du m² à lille (année2022) pour les logements de 4 pièces, Séparation appartements vs maisons"
   ]
  },
  {
   "cell_type": "code",
   "execution_count": 10,
   "id": "11025e23",
   "metadata": {},
   "outputs": [],
   "source": [
    "import pandas as pd\n",
    "import numpy as np\n",
    "from sklearn.model_selection import train_test_split, GridSearchCV\n",
    "from sklearn.linear_model import LinearRegression\n",
    "from sklearn.tree import DecisionTreeRegressor\n",
    "from sklearn.ensemble import RandomForestRegressor\n",
    "from sklearn.metrics import mean_squared_error\n",
    "from xgboost import XGBRegressor\n",
    "import matplotlib.pyplot as plt\n",
    "import seaborn as sns"
   ]
  },
  {
   "cell_type": "markdown",
   "id": "a9adeb33",
   "metadata": {},
   "source": [
    "## Chargement , exploration et vérification des données "
   ]
  },
  {
   "cell_type": "code",
   "execution_count": 11,
   "id": "d08b5c74",
   "metadata": {},
   "outputs": [
    {
     "name": "stdout",
     "output_type": "stream",
     "text": [
      " Chargement des données de Lille...\n",
      " Données chargées : 11354 transactions\n",
      " Colonnes disponibles :\n",
      "   1. Identifiant de document\n",
      "   2. Reference document\n",
      "   3. 1 Articles CGI\n",
      "   4. 2 Articles CGI\n",
      "   5. 3 Articles CGI\n",
      "   6. 4 Articles CGI\n",
      "   7. 5 Articles CGI\n",
      "   8. No disposition\n",
      "   9. Date mutation\n",
      "  10. Nature mutation\n",
      "  11. Valeur fonciere\n",
      "  12. No voie\n",
      "  13. B/T/Q\n",
      "  14. Type de voie\n",
      "  15. Code voie\n",
      "  16. Voie\n",
      "  17. Code postal\n",
      "  18. Commune\n",
      "  19. Code departement\n",
      "  20. Code commune\n",
      "  21. Prefixe de section\n",
      "  22. Section\n",
      "  23. No plan\n",
      "  24. No Volume\n",
      "  25. 1er lot\n",
      "  26. Surface Carrez du 1er lot\n",
      "  27. 2eme lot\n",
      "  28. Surface Carrez du 2eme lot\n",
      "  29. 3eme lot\n",
      "  30. Surface Carrez du 3eme lot\n",
      "  31. 4eme lot\n",
      "  32. Surface Carrez du 4eme lot\n",
      "  33. 5eme lot\n",
      "  34. Surface Carrez du 5eme lot\n",
      "  35. Nombre de lots\n",
      "  36. Code type local\n",
      "  37. Type local\n",
      "  38. Identifiant local\n",
      "  39. Surface reelle bati\n",
      "  40. Nombre pieces principales\n",
      "  41. Nature culture\n",
      "  42. Nature culture speciale\n",
      "  43. Surface terrain\n",
      "  44. prix_m2\n",
      " Types de logements :\n",
      "Type local\n",
      "Dépendance                                  4641\n",
      "Appartement                                 4590\n",
      "Maison                                      1174\n",
      "Local industriel. commercial ou assimilé     949\n",
      "Name: count, dtype: int64\n",
      " Répartition nombre de pièces :\n",
      "Nombre pieces principales\n",
      "0.0     5596\n",
      "1.0     1471\n",
      "2.0     1635\n",
      "3.0     1273\n",
      "4.0      789\n",
      "5.0      379\n",
      "6.0      139\n",
      "7.0       42\n",
      "8.0       11\n",
      "9.0        9\n",
      "10.0       4\n",
      "11.0       2\n",
      "12.0       1\n",
      "13.0       1\n",
      "14.0       2\n",
      "Name: count, dtype: int64\n"
     ]
    }
   ],
   "source": [
    "# Configuration des graphiques\n",
    "plt.style.use('default')\n",
    "sns.set_palette('husl')\n",
    "\n",
    "def load_and_explore_data():\n",
    "    \"\"\" Charger les données de Lille\"\"\"\n",
    "    print(\" Chargement des données de Lille...\")\n",
    "    \n",
    "    df = pd.read_csv(\"data/lille_2022.csv\")\n",
    "    print(f\" Données chargées : {len(df)} transactions\")\n",
    "    \n",
    "    # Explorer les colonnes disponibles\n",
    "    print(\" Colonnes disponibles :\")\n",
    "    for i, col in enumerate(df.columns, 1):\n",
    "        print(f\"  {i:2d}. {col}\")\n",
    "    \n",
    "    # Vérifier les types de logements\n",
    "    if 'Type local' in df.columns:\n",
    "        print(f\" Types de logements :\")\n",
    "        print(df['Type local'].value_counts())\n",
    "    \n",
    "    # Vérifier les nombres de pièces\n",
    "    if 'Nombre pieces principales' in df.columns:\n",
    "        print(f\" Répartition nombre de pièces :\")\n",
    "        print(df['Nombre pieces principales'].value_counts().sort_index())\n",
    "    \n",
    "    return df\n",
    "\n",
    "# Appel de  la fonction pour charger et explorer les données\n",
    "df = load_and_explore_data()"
   ]
  },
  {
   "cell_type": "markdown",
   "id": "18695b94",
   "metadata": {},
   "source": [
    "## Filtrage des logements 4 pièces "
   ]
  },
  {
   "cell_type": "code",
   "execution_count": 12,
   "id": "5f35c9e7",
   "metadata": {},
   "outputs": [
    {
     "name": "stdout",
     "output_type": "stream",
     "text": [
      " Filtrage des logements 4 pièces...\n",
      " Logements 4 pièces : 789 transactions\n",
      " Types de logements 4 pièces :\n",
      "Type local\n",
      "Appartement    435\n",
      "Maison         354\n",
      "Name: count, dtype: int64\n"
     ]
    }
   ],
   "source": [
    "def filter_4_pieces_data(df):\n",
    "    \"\"\" Filtrer les logements de 4 pièces\"\"\"\n",
    "    print(\" Filtrage des logements 4 pièces...\")\n",
    "    \n",
    "    # Filtrer les 4 pièces\n",
    "    df_4p = df[df['Nombre pieces principales'] == 4].copy()\n",
    "    print(f\" Logements 4 pièces : {len(df_4p)} transactions\")\n",
    "    \n",
    "    if len(df_4p) == 0:\n",
    "        print(\" Aucun logement 4 pièces trouvé !\")\n",
    "        return None, None\n",
    "    \n",
    "    # Vérifier les types de logements dans les 4 pièces\n",
    "    print(f\" Types de logements 4 pièces :\")\n",
    "    print(df_4p['Type local'].value_counts())\n",
    "    \n",
    "    return(df_4p)\n",
    "    #appel de la fonction\n",
    "df_4p = filter_4_pieces_data(df)\n",
    "\n",
    "   "
   ]
  },
  {
   "cell_type": "markdown",
   "id": "9bf6bc4b",
   "metadata": {},
   "source": [
    "## Séparation maisons /  appartements + fonction de néttoyage"
   ]
  },
  {
   "cell_type": "code",
   "execution_count": 13,
   "id": "3573db6d",
   "metadata": {},
   "outputs": [
    {
     "name": "stdout",
     "output_type": "stream",
     "text": [
      " Appartements 4 pièces : 435\n",
      " Maisons 4 pièces : 354\n",
      "\n",
      "=== NETTOYAGE APPARTEMENTS ===\n",
      " Nettoyage données APPARTEMENTS...\n",
      " Colonnes disponibles : ['Surface reelle bati', 'Nombre pieces principales', 'Type local', 'Valeur fonciere', 'Surface terrain', 'Nombre de lots']\n",
      " Variable prix_m2 créée\n",
      " Avant nettoyage : 435 lignes\n",
      " Après nettoyage valeurs manquantes : 435 lignes\n",
      " Détection outliers prix_m2 :\n",
      "   Q1: 2617.08, Q3: 4310.38\n",
      "   Limites: [77.12, 6850.34]\n",
      " Après suppression outliers : 386 lignes\n",
      "   Statistiques APPARTEMENTS :\n",
      "   Prix m² min: 416.67 €\n",
      "   Prix m² max: 6824.32 €\n",
      "   Prix m² moyen: 3352.36 €\n",
      "   Variables : ['Surface reelle bati', 'Nombre pieces principales', 'Surface terrain', 'Nombre de lots']\n",
      "\n",
      "=== NETTOYAGE MAISONS ===\n",
      " Nettoyage données MAISONS...\n",
      " Colonnes disponibles : ['Surface reelle bati', 'Nombre pieces principales', 'Type local', 'Valeur fonciere', 'Surface terrain', 'Nombre de lots']\n",
      " Variable prix_m2 créée\n",
      " Avant nettoyage : 354 lignes\n",
      " Après nettoyage valeurs manquantes : 354 lignes\n",
      " Détection outliers prix_m2 :\n",
      "   Q1: 2291.39, Q3: 3482.00\n",
      "   Limites: [505.48, 5267.90]\n",
      " Après suppression outliers : 341 lignes\n",
      "   Statistiques MAISONS :\n",
      "   Prix m² min: 825.12 €\n",
      "   Prix m² max: 5215.38 €\n",
      "   Prix m² moyen: 2897.72 €\n",
      "   Variables : ['Surface reelle bati', 'Nombre pieces principales', 'Surface terrain', 'Nombre de lots']\n"
     ]
    }
   ],
   "source": [
    "from sklearn.model_selection import train_test_split  \n",
    "\n",
    "#Créer les variables\n",
    "appartements = df_4p[df_4p['Type local'] == 'Appartement'].copy()\n",
    "maisons = df_4p[df_4p['Type local'] == 'Maison'].copy()\n",
    "\n",
    "print(f\" Appartements 4 pièces : {len(appartements)}\")\n",
    "print(f\" Maisons 4 pièces : {len(maisons)}\")\n",
    "\n",
    "#   Définir la fonction de nettoyage\n",
    "def select_features_and_clean(df, dataset_name):\n",
    "    \"\"\"Sélectionner les colonnes et nettoyer\"\"\"\n",
    "    print(f\" Nettoyage données {dataset_name}...\")\n",
    "    \n",
    "    if len(df) == 0:\n",
    "        print(f\" Aucune donnée pour {dataset_name}\")\n",
    "        return None, None, None\n",
    "    \n",
    "    # Colonnes à conserver\n",
    "    required_cols = ['Surface reelle bati', 'Nombre pieces principales', 'Type local', 'Valeur fonciere']\n",
    "    optional_cols = ['Surface terrain', 'Nombre de lots']\n",
    "    \n",
    "    # Vérifier colonnes disponibles\n",
    "    available_cols = [col for col in required_cols if col in df.columns]\n",
    "    available_optional = [col for col in optional_cols if col in df.columns]\n",
    "    \n",
    "    print(f\" Colonnes disponibles : {available_cols + available_optional}\")\n",
    "    \n",
    "    # Sélectionner et nettoyer\n",
    "    selected_cols = available_cols + available_optional\n",
    "    df_clean = df[selected_cols].copy()\n",
    "    \n",
    "    # Créer prix_m2 (Variable cible)\n",
    "    df_clean['prix_m2'] = df_clean['Valeur fonciere'] / df_clean['Surface reelle bati']\n",
    "    print(f\" Variable prix_m2 créée\")\n",
    "    \n",
    "    # Nettoyage\n",
    "    print(f\" Avant nettoyage : {len(df_clean)} lignes\")\n",
    "    \n",
    "    # Remplacer valeurs manquantes \n",
    "    if 'Surface terrain' in df_clean.columns:\n",
    "        df_clean['Surface terrain'] = df_clean['Surface terrain'].fillna(0)\n",
    "    if 'Nombre de lots' in df_clean.columns:\n",
    "        df_clean['Nombre de lots'] = df_clean['Nombre de lots'].fillna(1)\n",
    "    \n",
    "    # Supprimer lignes avec données essentielles manquantes\n",
    "    df_clean = df_clean.dropna(subset=['Surface reelle bati', 'Valeur fonciere'])\n",
    "    print(f\" Après nettoyage valeurs manquantes : {len(df_clean)} lignes\")\n",
    "    \n",
    "    # Identifier et retirer les valeurs aberrantes (prix au m²)\n",
    "    if len(df_clean) > 0:\n",
    "        Q1 = df_clean['prix_m2'].quantile(0.25)\n",
    "        Q3 = df_clean['prix_m2'].quantile(0.75)\n",
    "        IQR = Q3 - Q1\n",
    "        \n",
    "        # Limites pour les outliers\n",
    "        lower_bound = Q1 - 1.5 * IQR\n",
    "        upper_bound = Q3 + 1.5 * IQR\n",
    "        \n",
    "        print(f\" Détection outliers prix_m2 :\")\n",
    "        print(f\"   Q1: {Q1:.2f}, Q3: {Q3:.2f}\")\n",
    "        print(f\"   Limites: [{lower_bound:.2f}, {upper_bound:.2f}]\")\n",
    "        \n",
    "        # Filtrer les outliers\n",
    "        mask = (df_clean['prix_m2'] >= lower_bound) & (df_clean['prix_m2'] <= upper_bound)\n",
    "        df_clean = df_clean[mask]\n",
    "        \n",
    "        print(f\" Après suppression outliers : {len(df_clean)} lignes\")\n",
    "    \n",
    "    if len(df_clean) == 0:\n",
    "        print(f\" Plus de données après nettoyage pour {dataset_name}\")\n",
    "        return None, None, None\n",
    "    \n",
    "    # Préparer X et y\n",
    "    feature_cols = [col for col in df_clean.columns if col not in ['Valeur fonciere', 'prix_m2', 'Type local']]\n",
    "    X = df_clean[feature_cols]\n",
    "    y = df_clean['prix_m2']\n",
    "        \n",
    "    # Afficher quelques statistiques\n",
    "    print(f\"   Statistiques {dataset_name} :\")\n",
    "    print(f\"   Prix m² min: {df_clean['prix_m2'].min():.2f} €\")\n",
    "    print(f\"   Prix m² max: {df_clean['prix_m2'].max():.2f} €\")\n",
    "    print(f\"   Prix m² moyen: {df_clean['prix_m2'].mean():.2f} €\")\n",
    "    print(f\"   Variables : {list(X.columns)}\")\n",
    "    \n",
    "    return X, y, df_clean\n",
    "\n",
    "# Appeler la fonction\n",
    "print(\"\\n=== NETTOYAGE APPARTEMENTS ===\")\n",
    "X_apt, y_apt, df_apt_clean = select_features_and_clean(appartements, \"APPARTEMENTS\")\n",
    "\n",
    "print(\"\\n=== NETTOYAGE MAISONS ===\")\n",
    "X_maisons, y_maisons, df_maisons_clean = select_features_and_clean(maisons, \"MAISONS\")\n",
    "\n",
    "\n",
    "\n"
   ]
  },
  {
   "cell_type": "markdown",
   "id": "34d11054",
   "metadata": {},
   "source": [
    "## Division en jeu d'entraînement (80%) et test (20%) avec train_test_split"
   ]
  },
  {
   "cell_type": "code",
   "execution_count": 14,
   "id": "e7cfaec1",
   "metadata": {},
   "outputs": [
    {
     "name": "stdout",
     "output_type": "stream",
     "text": [
      " Appartements - Train: 308, Test: 78\n",
      " Maisons - Train: 272, Test: 69\n"
     ]
    }
   ],
   "source": [
    "#  Division train/test \n",
    "if X_apt is not None:\n",
    "    X_train_apt, X_test_apt, y_train_apt, y_test_apt = train_test_split(\n",
    "        X_apt, y_apt, test_size=0.2, random_state=42\n",
    "    )\n",
    "    print(f\" Appartements - Train: {len(X_train_apt)}, Test: {len(X_test_apt)}\")\n",
    "\n",
    "if X_maisons is not None:\n",
    "    X_train_maisons, X_test_maisons, y_train_maisons, y_test_maisons = train_test_split(\n",
    "        X_maisons, y_maisons, test_size=0.2, random_state=42\n",
    "    )\n",
    "    print(f\" Maisons - Train: {len(X_train_maisons)}, Test: {len(X_test_maisons)}\")"
   ]
  },
  {
   "cell_type": "markdown",
   "id": "203a0a03",
   "metadata": {},
   "source": [
    "##  Corrèlations des variables avec le prix au m²"
   ]
  },
  {
   "cell_type": "code",
   "execution_count": 15,
   "id": "654e2684",
   "metadata": {},
   "outputs": [
    {
     "name": "stdout",
     "output_type": "stream",
     "text": [
      " Corrélations avec prix_m2:\n",
      " APPARTEMENTS:\n",
      "prix_m2                      1.000000\n",
      "Valeur fonciere              0.816847\n",
      "Surface reelle bati          0.281777\n",
      "Surface terrain              0.129676\n",
      "Nombre de lots               0.047431\n",
      "Nombre pieces principales         NaN\n",
      "Name: prix_m2, dtype: float64\n",
      " MAISONS:\n",
      "prix_m2                      1.000000\n",
      "Valeur fonciere              0.754197\n",
      "Surface terrain              0.142383\n",
      "Nombre de lots              -0.044690\n",
      "Surface reelle bati         -0.053308\n",
      "Nombre pieces principales         NaN\n",
      "Name: prix_m2, dtype: float64\n"
     ]
    }
   ],
   "source": [
    "\n",
    "print(\" Corrélations avec prix_m2:\")\n",
    "\n",
    "# Appartements\n",
    "if df_apt_clean is not None:\n",
    "    print(\" APPARTEMENTS:\")\n",
    "    numeric_cols = df_apt_clean.select_dtypes(include=[np.number])\n",
    "    print(numeric_cols.corr()['prix_m2'].sort_values(ascending=False))\n",
    "\n",
    "# Maisons  \n",
    "if df_maisons_clean is not None:\n",
    "    print(\" MAISONS:\")\n",
    "    numeric_cols = df_maisons_clean.select_dtypes(include=[np.number])\n",
    "    print(numeric_cols.corr()['prix_m2'].sort_values(ascending=False))\n",
    "\n",
    "\n",
    "\n"
   ]
  },
  {
   "cell_type": "markdown",
   "id": "8fd321a2",
   "metadata": {},
   "source": [
    "## Standardisation (uniquement pour x ) et entrainement du modèle "
   ]
  },
  {
   "cell_type": "code",
   "execution_count": 16,
   "id": "49bcc6bd",
   "metadata": {},
   "outputs": [],
   "source": [
    "from sklearn.preprocessing import StandardScaler\n",
    "from sklearn.linear_model import LinearRegression\n",
    "from sklearn.metrics import mean_squared_error\n",
    "\n",
    "# Pour les appartements\n",
    "if X_train_apt is not None:\n",
    "    scaler_apt = StandardScaler()\n",
    "    X_train_apt_scaled = scaler_apt.fit_transform(X_train_apt)\n",
    "    X_test_apt_scaled = scaler_apt.transform(X_test_apt)\n",
    "\n",
    "# Pour les maisons\n",
    "if X_train_maisons is not None:\n",
    "    scaler_maisons = StandardScaler()\n",
    "    X_train_maisons_scaled = scaler_maisons.fit_transform(X_train_maisons)\n",
    "    X_test_maisons_scaled = scaler_maisons.transform(X_test_maisons)"
   ]
  },
  {
   "cell_type": "code",
   "execution_count": 17,
   "id": "526cf2b4",
   "metadata": {},
   "outputs": [
    {
     "name": "stdout",
     "output_type": "stream",
     "text": [
      " Entraînement Régression Linéaire - APPARTEMENTS\n",
      "   MSE: 1495078.04\n",
      " Entraînement Régression Linéaire - MAISONS\n",
      "   MSE: 607924.10\n"
     ]
    }
   ],
   "source": [
    "from sklearn.linear_model import LinearRegression\n",
    "from sklearn.metrics import mean_squared_error\n",
    "from sklearn.preprocessing import StandardScaler\n",
    "\n",
    "# Pour les appartements\n",
    "if X_train_apt is not None:\n",
    "    scaler_apt = StandardScaler()\n",
    "    X_train_apt_scaled = scaler_apt.fit_transform(X_train_apt)\n",
    "    X_test_apt_scaled = scaler_apt.transform(X_test_apt)\n",
    "\n",
    "# Pour les maisons\n",
    "if X_train_maisons is not None:\n",
    "    scaler_maisons = StandardScaler()\n",
    "    X_train_maisons_scaled = scaler_maisons.fit_transform(X_train_maisons)\n",
    "    X_test_maisons_scaled = scaler_maisons.transform(X_test_maisons)\n",
    "\n",
    "# Pour les appartements\n",
    "if X_train_apt_scaled is not None:\n",
    "    print(\" Entraînement Régression Linéaire - APPARTEMENTS\")\n",
    "    model_apt = LinearRegression()\n",
    "    model_apt.fit(X_train_apt_scaled, y_train_apt)  \n",
    "    \n",
    "    # Prédictions\n",
    "    y_pred_apt = model_apt.predict(X_test_apt_scaled)\n",
    "    \n",
    "    # Évaluation\n",
    "    mse_apt = mean_squared_error(y_test_apt, y_pred_apt)\n",
    "    print(f\"   MSE: {mse_apt:.2f}\")\n",
    "\n",
    "#Entrainement\n",
    "# Pour les maisons\n",
    "if X_train_maisons_scaled is not None:\n",
    "    print(\" Entraînement Régression Linéaire - MAISONS\")\n",
    "    model_maisons = LinearRegression()\n",
    "    model_maisons.fit(X_train_maisons_scaled, y_train_maisons)  \n",
    "    \n",
    "    # Prédictions\n",
    "    y_pred_maisons = model_maisons.predict(X_test_maisons_scaled)\n",
    "    \n",
    "    # Évaluation\n",
    "    mse_maisons = mean_squared_error(y_test_maisons, y_pred_maisons)\n",
    "    print(f\"   MSE: {mse_maisons:.2f}\")\n",
    "\n",
    "\n"
   ]
  },
  {
   "cell_type": "markdown",
   "id": "f5b2e252",
   "metadata": {},
   "source": [
    "## Modèle de régréssion linéaire \n",
    "\n"
   ]
  },
  {
   "cell_type": "code",
   "execution_count": 18,
   "id": "d0aa7f1f",
   "metadata": {},
   "outputs": [
    {
     "data": {
      "image/png": "[encoded data removed]",
      "text/plain": [
       "<Figure size 800x600 with 1 Axes>"
      ]
     },
     "metadata": {},
     "output_type": "display_data"
    }
   ],
   "source": [
    "import matplotlib.pyplot as plt\n",
    "\n",
    " # Visualisation\n",
    "plt.figure(figsize=(8, 6))\n",
    "plt.scatter(y_test_apt, y_pred_apt, alpha=0.6)\n",
    "plt.plot([y_test_apt.min(), y_test_apt.max()], \n",
    "            [y_test_apt.min(), y_test_apt.max()], \n",
    "            color=\"red\", linestyle=\"--\")\n",
    "plt.xlabel(\"Vraies valeurs (€/m²)\")\n",
    "plt.ylabel(\"Prédictions (€/m²)\")\n",
    "plt.title(\"Appartements - Vraies valeurs vs Prédictions\")\n",
    "plt.grid(True, alpha=0.3)\n",
    "plt.show()\n"
   ]
  },
  {
   "cell_type": "code",
   "execution_count": 21,
   "id": "fd5c8e2c",
   "metadata": {},
   "outputs": [
    {
     "name": "stdout",
     "output_type": "stream",
     "text": [
      "Régression Linéaire...\n",
      " APPARTEMENTS\n",
      " MSE: 1495078.04\n",
      " MAISONS\n",
      " MSE: 607924.10\n"
     ]
    }
   ],
   "source": [
    "from sklearn.linear_model import LinearRegression\n",
    "from sklearn.metrics import mean_squared_error\n",
    "\n",
    "print(\"Régression Linéaire...\")\n",
    "\n",
    "# Pour les appartements\n",
    "if 'X_train_apt_scaled' in locals():\n",
    "    print(\" APPARTEMENTS\")\n",
    "    lr_apt = LinearRegression()\n",
    "    lr_apt.fit(X_train_apt_scaled, y_train_apt)  \n",
    "    y_pred_lr_apt = lr_apt.predict(X_test_apt_scaled)\n",
    "    mse_lr_apt = mean_squared_error(y_test_apt, y_pred_lr_apt)\n",
    "    print(f\" MSE: {mse_lr_apt:.2f}\")\n",
    "\n",
    "# Pour les maisons\n",
    "if 'X_train_maisons_scaled' in locals():\n",
    "    print(\" MAISONS\")\n",
    "    lr_maisons = LinearRegression()\n",
    "    lr_maisons.fit(X_train_maisons_scaled, y_train_maisons)  \n",
    "    y_pred_lr_maisons = lr_maisons.predict(X_test_maisons_scaled)\n",
    "    mse_lr_maisons = mean_squared_error(y_test_maisons, y_pred_lr_maisons)\n",
    "    print(f\" MSE: {mse_lr_maisons:.2f}\")"
   ]
  },
  {
   "cell_type": "markdown",
   "id": "faf1add6",
   "metadata": {},
   "source": [
    "## Modèle décision threeregressor"
   ]
  },
  {
   "cell_type": "code",
   "execution_count": null,
   "id": "4aff62a2",
   "metadata": {},
   "outputs": [
    {
     "name": "stdout",
     "output_type": "stream",
     "text": [
      " DECISION TREE REGRESSOR\n",
      "========================================\n",
      " APPARTEMENTS - Decision Tree\n",
      "   MSE: 1896274.98\n",
      " MAISONS - Decision Tree\n",
      "   MSE: 1259491.71\n"
     ]
    }
   ],
   "source": [
    "from sklearn.tree import DecisionTreeRegressor\n",
    "from sklearn.metrics import mean_squared_error\n",
    "\n",
    "print(\" DECISION TREE REGRESSOR\")\n",
    "print(\"=\" * 40)\n",
    "\n",
    "# Pour les appartements\n",
    "if 'X_train_apt_scaled' in locals():\n",
    "    print(\" APPARTEMENTS - Decision Tree\")\n",
    "    dt_apt = DecisionTreeRegressor(random_state=42)\n",
    "    dt_apt.fit(X_train_apt_scaled, y_train_apt)\n",
    "    y_pred_dt_apt = dt_apt.predict(X_test_apt_scaled)\n",
    "    mse_dt_apt = mean_squared_error(y_test_apt, y_pred_dt_apt)\n",
    "    print(f\"   MSE: {mse_dt_apt:.2f}\")\n",
    "\n",
    "# Pour les maisons\n",
    "if 'X_train_maisons_scaled' in locals():\n",
    "    print(\" MAISONS - Decision Tree\")\n",
    "    dt_maisons = DecisionTreeRegressor(random_state=42)\n",
    "    dt_maisons.fit(X_train_maisons_scaled, y_train_maisons)\n",
    "    y_pred_dt_maisons = dt_maisons.predict(X_test_maisons_scaled)\n",
    "    mse_dt_maisons = mean_squared_error(y_test_maisons, y_pred_dt_maisons)\n",
    "    print(f\"   MSE: {mse_dt_maisons:.2f}\")"
   ]
  },
  {
   "cell_type": "code",
   "execution_count": null,
   "id": "6323fba3",
   "metadata": {},
   "outputs": [],
   "source": [
    "from sklearn.ensemble import RandomForestRegressor\n",
    "\n",
    "\n",
    "print(\"\\n RANDOM FOREST REGRESSOR\")\n",
    "print(\"=\" * 40)\n",
    "\n",
    "# Pour les appartements\n",
    "if 'X_train_apt_scaled' in locals():\n",
    "    print(\" APPARTEMENTS - Random Forest\")\n",
    "    rf_apt = RandomForestRegressor(n_estimators=100, random_state=42)\n",
    "    rf_apt.fit(X_train_apt_scaled, y_train_apt)\n",
    "    y_pred_rf_apt = rf_apt.predict(X_test_apt_scaled)\n",
    "    mse_rf_apt = mean_squared_error(y_test_apt, y_pred_rf_apt)\n",
    "    print(f\"   MSE: {mse_rf_apt:.2f}\")\n",
    "\n",
    "# Pour les maisons\n",
    "if 'X_train_maisons_scaled' in locals():\n",
    "    print(\"MAISONS - Random Forest\")\n",
    "    rf_maisons = RandomForestRegressor(n_estimators=100, random_state=42)\n",
    "    rf_maisons.fit(X_train_maisons_scaled, y_train_maisons)\n",
    "    y_pred_rf_maisons = rf_maisons.predict(X_test_maisons_scaled)\n",
    "    mse_rf_maisons = mean_squared_error(y_test_maisons, y_pred_rf_maisons)\n",
    "    print(f\"   MSE: {mse_rf_maisons:.2f}\")\n",
    "\n",
    "\n",
    "\n",
    "\n",
    "\n"
   ]
  },
  {
   "cell_type": "code",
   "execution_count": null,
   "id": "f48625a2",
   "metadata": {},
   "outputs": [],
   "source": []
  }
 ],
 "metadata": {
  "kernelspec": {
   "display_name": "immo_env",
   "language": "python",
   "name": "python3"
  },
  "language_info": {
   "codemirror_mode": {
    "name": "ipython",
    "version": 3
   },
   "file_extension": ".py",
   "mimetype": "text/x-python",
   "name": "python",
   "nbconvert_exporter": "python",
   "pygments_lexer": "ipython3",
   "version": "3.13.3"
  }
 },
 "nbformat": 4,
 "nbformat_minor": 5
}
